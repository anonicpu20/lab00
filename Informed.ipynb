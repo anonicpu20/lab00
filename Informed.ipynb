{
  "nbformat": 4,
  "nbformat_minor": 0,
  "metadata": {
    "colab": {
      "provenance": []
    },
    "kernelspec": {
      "name": "python3",
      "display_name": "Python 3"
    },
    "language_info": {
      "name": "python"
    }
  },
  "cells": [
    {
      "cell_type": "code",
      "execution_count": null,
      "metadata": {
        "colab": {
          "base_uri": "https://localhost:8080/"
        },
        "id": "sGro6XsP9V2H",
        "outputId": "048dd4dd-12b1-4c6c-faaa-ff7fa4e81fc9"
      },
      "outputs": [
        {
          "output_type": "stream",
          "name": "stdout",
          "text": [
            "Best-First Search Path:\n",
            "A B C E F \n",
            "Goal reached!\n"
          ]
        },
        {
          "output_type": "execute_result",
          "data": {
            "text/plain": [
              "True"
            ]
          },
          "metadata": {},
          "execution_count": 2
        }
      ],
      "source": [
        "from queue import PriorityQueue\n",
        "\n",
        "# Example graph represented as an adjacency list\n",
        "graph = {\n",
        "    'A': [('B', 5), ('C', 8)],\n",
        "    'B': [('D', 10)],\n",
        "    'C': [('E', 3)],\n",
        "    'D': [('F', 7)],\n",
        "    'E': [('F', 2)],\n",
        "    'F': []\n",
        "}\n",
        "\n",
        "def best_first_search(graph, start, goal):\n",
        "    visited = set()\n",
        "    pq = PriorityQueue()\n",
        "    pq.put((0, start))  # Priority queue with heuristic value\n",
        "\n",
        "    while not pq.empty():\n",
        "        cost, node = pq.get()\n",
        "\n",
        "        if node not in visited:\n",
        "            print(node, end=' ')\n",
        "            visited.add(node)\n",
        "\n",
        "            if node == goal:\n",
        "                print(\"\\nGoal reached!\")\n",
        "                return True\n",
        "\n",
        "            for neighbor, weight in graph[node]:\n",
        "                if neighbor not in visited:\n",
        "                    pq.put((weight, neighbor))\n",
        "\n",
        "    print(\"\\nGoal not reachable!\")\n",
        "    return False\n",
        "\n",
        "# Run Best-First Search\n",
        "print(\"Best-First Search Path:\")\n",
        "best_first_search(graph, 'A', 'F')\n"
      ]
    },
    {
      "cell_type": "code",
      "source": [
        "from queue import PriorityQueue\n",
        "\n",
        "class Node:\n",
        "    def __init__(self, position, parent=None):\n",
        "        self.position = position\n",
        "        self.parent = parent\n",
        "        self.g = 0  # Cost from start node\n",
        "        self.h = 0  # Heuristic estimate of the cost to goal\n",
        "        self.f = 0  # Total cost\n",
        "\n",
        "    def __lt__(self, other):\n",
        "        return self.f < other.f\n",
        "\n",
        "def heuristic(current_pos, end_pos):\n",
        "    return abs(current_pos[0] - end_pos[0]) + abs(current_pos[1] - end_pos[1])  # Manhattan distance\n",
        "\n",
        "def best_first_search(maze, start, end):\n",
        "    rows, cols = len(maze), len(maze[0])\n",
        "    start_node = Node(start)\n",
        "    end_node = Node(end)\n",
        "    frontier = PriorityQueue()\n",
        "    frontier.put(start_node)\n",
        "    visited = set()\n",
        "\n",
        "    while not frontier.empty():\n",
        "        current_node = frontier.get()\n",
        "        current_pos = current_node.position\n",
        "\n",
        "        if current_pos == end:\n",
        "            path = []\n",
        "            while current_node:\n",
        "                path.append(current_node.position)\n",
        "                current_node = current_node.parent\n",
        "            return path[::-1]  # Reverse the path\n",
        "\n",
        "        visited.add(current_pos)\n",
        "\n",
        "        # Generate adjacent nodes\n",
        "        for dx, dy in [(1, 0), (-1, 0), (0, 1), (0, -1)]:\n",
        "            new_pos = (current_pos[0] + dx, current_pos[1] + dy)\n",
        "            if 0 <= new_pos[0] < rows and 0 <= new_pos[1] < cols and maze[new_pos[0]][new_pos[1]] == 0 and new_pos not in visited:\n",
        "                new_node = Node(new_pos, current_node)\n",
        "                new_node.g = current_node.g + 1\n",
        "                new_node.h = heuristic(new_pos, end)\n",
        "                new_node.f = new_node.h  # Best-First Search: f(n) = h(n)\n",
        "                frontier.put(new_node)\n",
        "                visited.add(new_pos)\n",
        "\n",
        "    return None  # No path found\n",
        "\n",
        "# Example maze\n",
        "maze = [\n",
        "    [0, 0, 1, 0, 0],\n",
        "    [0, 0, 0, 0, 0],\n",
        "    [0, 0, 1, 0, 1],\n",
        "    [0, 0, 1, 0, 0],\n",
        "    [0, 0, 0, 1, 0]\n",
        "]\n",
        "\n",
        "start = (0, 0)\n",
        "end = (4, 4)\n",
        "\n",
        "path = best_first_search(maze, start, end)\n",
        "if path:\n",
        "    print(\"Path found:\", path)\n",
        "else:\n",
        "    print(\"No path found\")\n"
      ],
      "metadata": {
        "colab": {
          "base_uri": "https://localhost:8080/"
        },
        "id": "l7kCsYgE-GkI",
        "outputId": "1f9b4cb7-4eac-469c-c056-467b82a0dc5e"
      },
      "execution_count": null,
      "outputs": [
        {
          "output_type": "stream",
          "name": "stdout",
          "text": [
            "Path found: [(0, 0), (1, 0), (1, 1), (1, 2), (1, 3), (2, 3), (3, 3), (3, 4), (4, 4)]\n"
          ]
        }
      ]
    },
    {
      "cell_type": "code",
      "source": [
        "import heapq\n",
        "\n",
        "# Graph with edge costs\n",
        "graph = {\n",
        "    'A': {'B': 2, 'C': 1},\n",
        "    'B': {'D': 4, 'E': 3},\n",
        "    'C': {'F': 1, 'G': 5},\n",
        "    'D': {'H': 2},\n",
        "    'E': {},\n",
        "    'F': {'I': 6},\n",
        "    'G': {},\n",
        "    'H': {},\n",
        "    'I': {}\n",
        "}\n",
        "\n",
        "# Heuristic function (estimated cost to reach goal 'I')\n",
        "heuristic = {\n",
        "    'A': 7, 'B': 6, 'C': 5, 'D': 4, 'E': 7, 'F': 3, 'G': 6, 'H': 2, 'I': 0\n",
        "}\n",
        "\n",
        "# A* Search Function\n",
        "def a_star(graph, start, goal):\n",
        "    frontier = [(0 + heuristic[start], start)]  # Priority queue\n",
        "    visited = set()\n",
        "    g_costs = {start: 0}\n",
        "    came_from = {start: None}\n",
        "\n",
        "    while frontier:\n",
        "        frontier.sort(key=lambda x: x[0])  # Sort by f(n) = g(n) + h(n)\n",
        "        _, current_node = frontier.pop(0)\n",
        "\n",
        "        if current_node in visited:\n",
        "            continue\n",
        "\n",
        "        print(current_node, end=\" \")  # Print visited node\n",
        "        visited.add(current_node)\n",
        "\n",
        "        if current_node == goal:\n",
        "            path = []\n",
        "            while current_node is not None:\n",
        "                path.append(current_node)\n",
        "                current_node = came_from[current_node]\n",
        "            path.reverse()\n",
        "            print(f\"\\nGoal found with A*. Path: {path}\")\n",
        "            return\n",
        "\n",
        "        # Explore neighbors\n",
        "        for neighbor, cost in graph[current_node].items():\n",
        "            new_g_cost = g_costs[current_node] + cost  # g(n)\n",
        "            f_cost = new_g_cost + heuristic[neighbor]  # f(n) = g(n) + h(n)\n",
        "\n",
        "            if neighbor not in g_costs or new_g_cost < g_costs[neighbor]:\n",
        "                g_costs[neighbor] = new_g_cost\n",
        "                came_from[neighbor] = current_node\n",
        "                frontier.append((f_cost, neighbor))\n",
        "\n",
        "    print(\"\\nGoal not found\")\n",
        "\n",
        "# Run A* Search\n",
        "print(\"\\nFollowing is the A* Search:\")\n",
        "a_star(graph, 'A', 'I')\n"
      ],
      "metadata": {
        "colab": {
          "base_uri": "https://localhost:8080/"
        },
        "id": "Z31OzGyL-JV5",
        "outputId": "dcdac5fd-413e-4291-aec2-a35a74b9f1ec"
      },
      "execution_count": null,
      "outputs": [
        {
          "output_type": "stream",
          "name": "stdout",
          "text": [
            "\n",
            "Following is the A* Search:\n",
            "A C F B I \n",
            "Goal found with A*. Path: ['A', 'C', 'F', 'I']\n"
          ]
        }
      ]
    }
  ]
}