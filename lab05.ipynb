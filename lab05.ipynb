{
  "nbformat": 4,
  "nbformat_minor": 0,
  "metadata": {
    "colab": {
      "provenance": []
    },
    "kernelspec": {
      "name": "python3",
      "display_name": "Python 3"
    },
    "language_info": {
      "name": "python"
    }
  },
  "cells": [
    {
      "cell_type": "code",
      "execution_count": null,
      "metadata": {
        "colab": {
          "base_uri": "https://localhost:8080/"
        },
        "id": "_2Jn76HUj-vF",
        "outputId": "74e08802-d697-45d9-a330-1148530c828d"
      },
      "outputs": [
        {
          "output_type": "stream",
          "name": "stdout",
          "text": [
            "Path found: S → C → H → I → L with total cost: 27\n"
          ]
        }
      ],
      "source": [
        "import heapq\n",
        "\n",
        "graph = {\n",
        "    'S': [('A', 3), ('B', 6), ('C', 5)],\n",
        "    'A': [('D', 9), ('E', 8)],\n",
        "    'B': [('F', 12), ('G', 14)],\n",
        "    'C': [('H', 7)],\n",
        "    'H': [('I', 5), ('J', 6)],\n",
        "    'I': [('K', 1), ('L', 10), ('M', 2)],\n",
        "    'D': [],\n",
        "    'E': [],\n",
        "    'F': [],\n",
        "    'G': [],\n",
        "    'J': [],\n",
        "    'K': [],\n",
        "    'L': [],\n",
        "    'M': []\n",
        "}\n",
        "\n",
        "# Beam Search function\n",
        "def beam_search(start, goal, beam_width=2):\n",
        "    # Initialize the beam with the start state\n",
        "    beam = [(0, [start])]  # (cumulative cost, path)\n",
        "\n",
        "    while beam:\n",
        "        candidates = []\n",
        "\n",
        "        # Expand each path in the beam\n",
        "        for cost, path in beam:\n",
        "            current_node = path[-1]\n",
        "            if current_node == goal:\n",
        "                return path, cost  # Return the path and cost if goal is reached\n",
        "\n",
        "            # Generate successors\n",
        "            for neighbor, edge_cost in graph.get(current_node, []):\n",
        "                new_cost = cost + edge_cost\n",
        "                new_path = path + [neighbor]\n",
        "                candidates.append((new_cost, new_path))\n",
        "\n",
        "        # Select top-k paths based on the lowest cumulative cost\n",
        "        beam = heapq.nsmallest(beam_width, candidates, key=lambda x: x[0])\n",
        "\n",
        "    return None, float('inf')  # Return None if no path is found\n",
        "\n",
        "# Run Beam Search\n",
        "start_node = 'S'\n",
        "goal_node = 'L'\n",
        "beam_width = 3\n",
        "\n",
        "path, cost = beam_search(start=start_node, goal=goal_node, beam_width=beam_width)\n",
        "\n",
        "# Print results\n",
        "if path:\n",
        "    print(f\"Path found: {' → '.join(path)} with total cost: {cost}\")\n",
        "else:\n",
        "    print(\"No path found.\")\n",
        "\n"
      ]
    },
    {
      "cell_type": "code",
      "source": [
        "import random\n",
        "\n",
        "# Heuristic function: Counts the number of pairs of attacking queens\n",
        "def calculate_conflicts(state):\n",
        "    print(state)\n",
        "    conflicts = 0\n",
        "    n = len(state)\n",
        "    for i in range(n):\n",
        "        for j in range(i + 1, n):\n",
        "            # Check same column or diagonal\n",
        "            if state[i] == state[j] or abs(state[i] - state[j]) == abs(i - j):\n",
        "                conflicts += 1\n",
        "    return conflicts\n",
        "\n",
        "# Generate neighbors by moving one queen at a time\n",
        "def get_neighbors(state):\n",
        "    neighbors = []\n",
        "    n = len(state)\n",
        "    for row in range(n):\n",
        "        for col in range(n):\n",
        "            if col != state[row]:  # Ensure the queen doesn't stay in the same column\n",
        "                new_state = list(state)\n",
        "                new_state[row] = col\n",
        "                neighbors.append(new_state)\n",
        "    return neighbors\n",
        "\n",
        "# Simple Hill Climbing function\n",
        "def simple_hill_climbing(n):\n",
        "    # Random initial state\n",
        "    current_state = [random.randint(0, n - 1) for _ in range(n)]\n",
        "    current_conflicts = calculate_conflicts(current_state)\n",
        "\n",
        "    while True:\n",
        "        neighbors = get_neighbors(current_state)\n",
        "        next_state = None\n",
        "        next_conflicts = current_conflicts\n",
        "\n",
        "        # Find the first better neighbor\n",
        "        for neighbor in neighbors:\n",
        "            neighbor_conflicts = calculate_conflicts(neighbor)\n",
        "            if neighbor_conflicts < next_conflicts:\n",
        "                next_state = neighbor\n",
        "                next_conflicts = neighbor_conflicts\n",
        "                break  # Move to the first better neighbor\n",
        "\n",
        "        # If no better neighbor is found, return the current state\n",
        "        if next_conflicts >= current_conflicts:\n",
        "            break\n",
        "\n",
        "        # Move to the better neighbor\n",
        "        current_state = next_state\n",
        "        current_conflicts = next_conflicts\n",
        "\n",
        "    return current_state, current_conflicts\n",
        "\n",
        "# Run Simple Hill Climbing for N-Queens\n",
        "n = 8  # Change N here for different sizes\n",
        "solution, conflicts = simple_hill_climbing(4)\n",
        "\n",
        "# Print results\n",
        "if conflicts == 0:\n",
        "    print(f\"Solution found for {n}-Queens problem:\")\n",
        "    print(solution)\n",
        "else:\n",
        "    print(f\"Could not find a solution. Stuck at state with {conflicts} conflicts:\")\n",
        "    print(solution)\n"
      ],
      "metadata": {
        "id": "Y1d8o-pwkoCe",
        "outputId": "edb6f64a-51bf-4532-aa0c-92cbb7f8f0d6",
        "colab": {
          "base_uri": "https://localhost:8080/"
        }
      },
      "execution_count": null,
      "outputs": [
        {
          "output_type": "stream",
          "name": "stdout",
          "text": [
            "[2, 1, 3, 1]\n",
            "[0, 1, 3, 1]\n",
            "[1, 1, 3, 1]\n",
            "[3, 1, 3, 1]\n",
            "[2, 0, 3, 1]\n",
            "[0, 0, 3, 1]\n",
            "[1, 0, 3, 1]\n",
            "[3, 0, 3, 1]\n",
            "[2, 1, 3, 1]\n",
            "[2, 2, 3, 1]\n",
            "[2, 3, 3, 1]\n",
            "[2, 0, 0, 1]\n",
            "[2, 0, 1, 1]\n",
            "[2, 0, 2, 1]\n",
            "[2, 0, 3, 0]\n",
            "[2, 0, 3, 2]\n",
            "[2, 0, 3, 3]\n",
            "Solution found for 8-Queens problem:\n",
            "[2, 0, 3, 1]\n"
          ]
        }
      ]
    }
  ]
}