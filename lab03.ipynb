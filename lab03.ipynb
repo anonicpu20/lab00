{
  "cells": [
    {
      "cell_type": "markdown",
      "metadata": {
        "id": "ge2tfLoty-3M"
      },
      "source": [
        "Task 01 B"
      ]
    },
    {
      "cell_type": "code",
      "execution_count": 1,
      "metadata": {
        "colab": {
          "base_uri": "https://localhost:8080/"
        },
        "id": "ZBp1O3Z5ityl",
        "outputId": "38613654-f44a-49a6-dbc5-2d0a8387db03"
      },
      "outputs": [
        {
          "name": "stdout",
          "output_type": "stream",
          "text": [
            "Goal found with UCS. Path: ['A', 'C'], Total Cost: 4\n"
          ]
        }
      ],
      "source": [
        "class UtilityBasedAgent:\n",
        "    def __init__(self, goal):\n",
        "        self.goal = goal\n",
        "\n",
        "\n",
        "    def formulate_goal(self, percept):\n",
        "        if percept == self.goal:\n",
        "            return \"Goal reached\"\n",
        "        return \"Searching\"\n",
        "\n",
        "    def ucs_search(self, graph, start, goal):\n",
        "        frontier = [(start, 0)]\n",
        "        visited = set()\n",
        "        cost_so_far = {start: 0}\n",
        "        came_from = {start: None}\n",
        "\n",
        "        while frontier:\n",
        "            frontier.sort(key=lambda x: x[1])\n",
        "            current_node, current_cost = frontier.pop(0)\n",
        "\n",
        "            if current_node in visited:\n",
        "                continue\n",
        "\n",
        "            visited.add(current_node)\n",
        "\n",
        "            if current_node == goal:\n",
        "                path = []\n",
        "                while current_node is not None:\n",
        "                    path.append(current_node)\n",
        "                    current_node = came_from[current_node]\n",
        "                path.reverse()\n",
        "                return f\"Goal found with UCS. Path: {path}, Total Cost: {current_cost}\"\n",
        "\n",
        "            for neighbor, cost in graph[current_node].items():\n",
        "                new_cost = current_cost + cost\n",
        "                if neighbor not in cost_so_far or new_cost < cost_so_far[neighbor]:\n",
        "                    cost_so_far[neighbor] = new_cost\n",
        "                    came_from[neighbor] = current_node\n",
        "                    frontier.append((neighbor, new_cost))\n",
        "\n",
        "        return \"Goal not found\"\n",
        "\n",
        "    def act(self, percept, graph):\n",
        "        goal_status = self.formulate_goal(percept)\n",
        "        if goal_status == \"Goal reached\":\n",
        "            return f\"Goal {self.goal} found!\"\n",
        "        else:\n",
        "            return self.ucs_search(graph, percept, self.goal)\n",
        "\n",
        "\n",
        "class Environment:\n",
        "    def __init__(self, graph):\n",
        "        self.graph = graph\n",
        "\n",
        "    def get_percept(self, node):\n",
        "        return node\n",
        "\n",
        "\n",
        "def run_agent(agent, environment, start_node):\n",
        "    percept = environment.get_percept(start_node)\n",
        "    action = agent.act(percept, environment.graph)\n",
        "    print(action)\n",
        "\n",
        "\n",
        "graph = {\n",
        "    'A': {'B': 1, 'C': 4},\n",
        "    'B': {'A': 1, 'D': 2, 'E': 5},\n",
        "    'C': {'A': 4, 'D': 3},\n",
        "    'D': {'B': 2, 'C': 3, 'E': 1},\n",
        "    'E': {'B': 5, 'D': 1}\n",
        "}\n",
        "\n",
        "environment = Environment(graph)\n",
        "agent = UtilityBasedAgent(goal='C')\n",
        "\n",
        "run_agent(agent, environment, start_node='A')\n"
      ]
    },
    {
      "cell_type": "markdown",
      "metadata": {
        "id": "wwxTSO2BzAn5"
      },
      "source": [
        "Task 01 B"
      ]
    },
    {
      "cell_type": "code",
      "execution_count": 2,
      "metadata": {
        "colab": {
          "base_uri": "https://localhost:8080/"
        },
        "id": "SL6Pr3fJj-cU",
        "outputId": "8cdc727b-656e-488c-cac3-29dd32c9d68d"
      },
      "outputs": [
        {
          "name": "stdout",
          "output_type": "stream",
          "text": [
            "Goal found with DLS. Path: ['A', 'B', 'E', 'G']\n"
          ]
        }
      ],
      "source": [
        "class GoalBasedAgent:\n",
        "    def __init__(self, goal, depth_limit):\n",
        "        self.goal = goal\n",
        "        self.depth_limit = depth_limit\n",
        "\n",
        "    def formulate_goal(self, percept):\n",
        "        if percept == self.goal:\n",
        "            return \"Goal reached\"\n",
        "        return \"Searching\"\n",
        "\n",
        "    def dls_search(self, graph, start, goal, depth_limit):\n",
        "        visited = []\n",
        "\n",
        "        def dfs(node, depth):\n",
        "            if depth > depth_limit:\n",
        "                return None\n",
        "            visited.append(node)\n",
        "            if node == goal:\n",
        "                return visited\n",
        "\n",
        "            for neighbor in graph.get(node, []):\n",
        "                if neighbor not in visited:\n",
        "                    path = dfs(neighbor, depth + 1)\n",
        "                    if path:\n",
        "                        return path\n",
        "\n",
        "            visited.pop()\n",
        "            return None\n",
        "\n",
        "        return dfs(start, 0)\n",
        "\n",
        "    def act(self, percept, graph):\n",
        "        goal_status = self.formulate_goal(percept)\n",
        "        if goal_status == \"Goal reached\":\n",
        "            return f\"Goal {self.goal} found!\"\n",
        "        else:\n",
        "            path = self.dls_search(graph, percept, self.goal, self.depth_limit)\n",
        "            if path:\n",
        "                return f\"Goal found with DLS. Path: {path}\"\n",
        "            else:\n",
        "                return \"Goal not found within the depth limit\"\n",
        "\n",
        "\n",
        "class Environment:\n",
        "    def __init__(self, graph):\n",
        "        self.graph = graph\n",
        "\n",
        "    def get_percept(self, node):\n",
        "        return node\n",
        "\n",
        "\n",
        "def run_agent(agent, environment, start_node):\n",
        "    percept = environment.get_percept(start_node)\n",
        "    action = agent.act(percept, environment.graph)\n",
        "    print(action)\n",
        "\n",
        "\n",
        "graph = {\n",
        "    'A': ['B', 'C'],\n",
        "    'B': ['A', 'D', 'E'],\n",
        "    'C': ['A', 'F'],\n",
        "    'D': ['B'],\n",
        "    'E': ['B', 'G'],\n",
        "    'F': ['C'],\n",
        "    'G': ['E']\n",
        "}\n",
        "\n",
        "\n",
        "environment = Environment(graph)\n",
        "agent = GoalBasedAgent(goal='G', depth_limit=3)\n",
        "run_agent(agent, environment, start_node='A')\n"
      ]
    },
    {
      "cell_type": "markdown",
      "metadata": {
        "id": "kA8z_cufzB1k"
      },
      "source": [
        "Task 02"
      ]
    },
    {
      "cell_type": "code",
      "execution_count": 3,
      "metadata": {
        "colab": {
          "base_uri": "https://localhost:8080/"
        },
        "id": "f021Qgcaolhu",
        "outputId": "6cc6a184-1648-44df-c592-35d9964421ae"
      },
      "outputs": [
        {
          "name": "stdout",
          "output_type": "stream",
          "text": [
            "Minimum Cost: 55\n",
            "Path Taken: 1 -> 2 -> 4 -> 1\n"
          ]
        }
      ],
      "source": [
        "\n",
        "graph = {\n",
        "    '1': {'2': 10, '4': 20, '3': 15},\n",
        "    '2': {'1': 10, '4': 25, '3': 35},\n",
        "    '3': {'1': 15, '4': 30, '2': 35},\n",
        "    '4': {'1': 20, '2': 25, '3': 30}\n",
        "}\n",
        "\n",
        "\n",
        "def travelling_salesman_problem(graph, start_node):\n",
        "    nodes = [node for node in graph if node != start_node]\n",
        "    min_cost = float('inf')\n",
        "    best_path = []\n",
        "\n",
        "\n",
        "    def backtrack(current_node, visited, current_cost, path):\n",
        "        nonlocal min_cost, best_path\n",
        "\n",
        "\n",
        "        if len(visited) == len(nodes):\n",
        "            return_cost = graph[current_node].get(start_node, float('inf'))\n",
        "            total_cost = current_cost + return_cost\n",
        "\n",
        "\n",
        "            if total_cost < min_cost:\n",
        "                min_cost = total_cost\n",
        "                best_path = path + [start_node]\n",
        "            return\n",
        "\n",
        "        for next_node in nodes:\n",
        "            if next_node not in visited:\n",
        "                visited.add(next_node)\n",
        "                backtrack(next_node, visited, current_cost + graph[current_node].get(next_node, float('inf')), path + [next_node])\n",
        "                visited.remove(next_node)\n",
        "\n",
        "    backtrack(start_node, {start_node}, 0, [start_node])\n",
        "\n",
        "    return min_cost, best_path\n",
        "\n",
        "\n",
        "start_node = '1'\n",
        "\n",
        "\n",
        "minimum_path_cost, path_taken = travelling_salesman_problem(graph, start_node)\n",
        "print(f\"Minimum Cost: {minimum_path_cost}\")\n",
        "print(f\"Path Taken: {' -> '.join(path_taken)}\")"
      ]
    },
    {
      "cell_type": "markdown",
      "metadata": {
        "id": "mPaN3-hEzC_p"
      },
      "source": [
        "Task 03"
      ]
    },
    {
      "cell_type": "code",
      "execution_count": 4,
      "metadata": {
        "colab": {
          "base_uri": "https://localhost:8080/"
        },
        "id": "0YxcL5otScmd",
        "outputId": "8eb805ab-a1e1-4fe5-b293-4d9c954ed80a"
      },
      "outputs": [
        {
          "name": "stdout",
          "output_type": "stream",
          "text": [
            "Optimal Path: ['A', 'B', 'D'], Total Cost: 6\n"
          ]
        }
      ],
      "source": [
        "import heapq\n",
        "\n",
        "def uniform_cost_search(graph, start, goal):\n",
        "    priority_queue = [(0, start, [start])]\n",
        "    visited = set()\n",
        "\n",
        "    while priority_queue:\n",
        "        cost, current_node, path = heapq.heappop(priority_queue)\n",
        "\n",
        "        if current_node == goal:\n",
        "            return path, cost\n",
        "\n",
        "        if current_node in visited:\n",
        "            continue\n",
        "\n",
        "        visited.add(current_node)\n",
        "\n",
        "        for neighbor, edge_cost in graph[current_node]:\n",
        "            if neighbor not in visited:\n",
        "                new_cost = cost + edge_cost\n",
        "                new_path = path + [neighbor]\n",
        "                heapq.heappush(priority_queue, (new_cost, neighbor, new_path))\n",
        "\n",
        "    return None, float('inf')\n",
        "\n",
        "graph = {\n",
        "    'A': [('B', 5), ('C', 2)],\n",
        "    'B': [('D', 1)],\n",
        "    'C': [('D', 4)],\n",
        "    'D': []\n",
        "}\n",
        "\n",
        "start_node = 'A'\n",
        "goal_node = 'D'\n",
        "path, cost = uniform_cost_search(graph, start_node, goal_node)\n",
        "print(f\"Optimal Path: {path}, Total Cost: {cost}\")"
      ]
    },
    {
      "cell_type": "markdown",
      "metadata": {
        "id": "MM5an3HNzEIw"
      },
      "source": [
        "Task 04"
      ]
    },
    {
      "cell_type": "code",
      "execution_count": 5,
      "metadata": {
        "colab": {
          "base_uri": "https://localhost:8080/"
        },
        "id": "08jH6gDjSmxp",
        "outputId": "03b71c87-6ce7-4630-9a94-41f1174d90a7"
      },
      "outputs": [
        {
          "name": "stdout",
          "output_type": "stream",
          "text": [
            "Exploring State (Depth 0):\n",
            "[1, 2, 3]\n",
            "[4, 5, 6]\n",
            "[7, 0, 8]\n",
            "\n",
            "Exploring State (Depth 1):\n",
            "[1, 2, 3]\n",
            "[4, 5, 6]\n",
            "[7, 8, 0]\n",
            "\n",
            "Goal State Found!\n",
            "Solution Path:\n",
            "[1, 2, 3]\n",
            "[4, 5, 6]\n",
            "[7, 0, 8]\n",
            "\n",
            "[1, 2, 3]\n",
            "[4, 5, 6]\n",
            "[7, 8, 0]\n",
            "\n"
          ]
        }
      ],
      "source": [
        "from collections import deque\n",
        "\n",
        "def is_goal(state):\n",
        "    return state == [[1, 2, 3], [4, 5, 6], [7, 8, 0]]\n",
        "\n",
        "def find_empty_tile(state):\n",
        "    for i in range(3):\n",
        "        for j in range(3):\n",
        "            if state[i][j] == 0:\n",
        "                return i, j\n",
        "\n",
        "def generate_moves(state):\n",
        "    moves = []\n",
        "    i, j = find_empty_tile(state)\n",
        "    directions = [(-1, 0), (1, 0), (0, -1), (0, 1)]\n",
        "\n",
        "    for di, dj in directions:\n",
        "        ni, nj = i + di, j + dj\n",
        "        if 0 <= ni < 3 and 0 <= nj < 3:\n",
        "            new_state = [row[:] for row in state]\n",
        "            new_state[i][j], new_state[ni][nj] = new_state[ni][nj], new_state[i][j]\n",
        "            moves.append(new_state)\n",
        "    return moves\n",
        "\n",
        "def depth_limited_search(state, goal, depth_limit):\n",
        "    stack = [(state, 0, [])]\n",
        "    visited = set()\n",
        "\n",
        "    while stack:\n",
        "        current_state, current_depth, path = stack.pop()\n",
        "\n",
        "        print(f\"Exploring State (Depth {current_depth}):\")\n",
        "        for row in current_state:\n",
        "            print(row)\n",
        "        print()\n",
        "\n",
        "        if current_depth > depth_limit:\n",
        "            print(\"Depth limit exceeded. Backtracking...\\n\")\n",
        "            continue\n",
        "\n",
        "        if tuple(map(tuple, current_state)) in visited:\n",
        "            print(\"State already visited. Skipping...\\n\")\n",
        "            continue\n",
        "\n",
        "        visited.add(tuple(map(tuple, current_state)))\n",
        "\n",
        "        if is_goal(current_state):\n",
        "            print(\"Goal State Found!\")\n",
        "            print(\"Solution Path:\")\n",
        "            for step in path + [current_state]:\n",
        "                for row in step:\n",
        "                    print(row)\n",
        "                print()\n",
        "            return True\n",
        "\n",
        "        if current_depth < depth_limit:\n",
        "            for move in generate_moves(current_state):\n",
        "                stack.append((move, current_depth + 1, path + [current_state]))\n",
        "\n",
        "    return False\n",
        "\n",
        "initial_state = [\n",
        "    [1, 2, 3],\n",
        "    [4, 5, 6],\n",
        "    [7, 0, 8]\n",
        "]\n",
        "\n",
        "depth_limit = 10\n",
        "solution_found = depth_limited_search(initial_state, None, depth_limit)\n",
        "if not solution_found:\n",
        "    print(\"No solution found within the depth limit.\")"
      ]
    },
    {
      "cell_type": "markdown",
      "metadata": {
        "id": "mSGLfriizFgg"
      },
      "source": [
        "Task 05"
      ]
    },
    {
      "cell_type": "code",
      "execution_count": 6,
      "metadata": {
        "colab": {
          "base_uri": "https://localhost:8080/"
        },
        "id": "u3beaaci7ZJ6",
        "outputId": "b0fafcd6-e73b-43ae-b17a-428359c91229"
      },
      "outputs": [
        {
          "name": "stdout",
          "output_type": "stream",
          "text": [
            "STEP 0: Resources=20, Tasks left=['task1', 'task2', 'task3'], Path so far=[]\n",
            "  Trying: task1\n",
            "STEP 1: Resources=15, Tasks left=['task2', 'task3'], Path so far=['task1']\n",
            "  Trying: task2\n",
            "STEP 2: Resources=10, Tasks left=['task3'], Path so far=['task1', 'task2']\n",
            "  Trying: task3\n",
            "STEP 3: Resources=5, Tasks left=[], Path so far=['task1', 'task2', 'task3']\n",
            "\n",
            "GOAL REACHED!\n",
            "\n",
            "FINAL SOLUTION:\n",
            "Step 1: Complete task1 (Resources remaining: 15)\n",
            "Step 2: Complete task2 (Resources remaining: 10)\n",
            "Step 3: Complete task3 (Resources remaining: 5)\n"
          ]
        }
      ],
      "source": [
        "class DecisionNode:\n",
        "    def __init__(self, state, path=None):\n",
        "        self.state = state\n",
        "        self.path = path if path else []\n",
        "\n",
        "    def __repr__(self):\n",
        "        return f\"Tasks left: {self.state['tasks']}, Resources: {self.state['resources']}, Path: {self.path}\"\n",
        "\n",
        "def is_goal(state):\n",
        "    return len(state[\"tasks\"]) == 0 and state[\"resources\"] >= 0\n",
        "\n",
        "def generate_choices(node):\n",
        "    choices = []\n",
        "    for task in node.state[\"tasks\"]:\n",
        "        new_state = {\n",
        "            \"tasks\": [t for t in node.state[\"tasks\"] if t != task],\n",
        "            \"resources\": node.state[\"resources\"] - 5\n",
        "        }\n",
        "        choices.append(DecisionNode(new_state, node.path + [task]))\n",
        "    return choices\n",
        "\n",
        "def depth_first_search(node, max_depth=10):\n",
        "    print(f\"STEP {len(node.path)}: Resources={node.state['resources']}, \" +\n",
        "          f\"Tasks left={node.state['tasks']}, Path so far={node.path}\")\n",
        "\n",
        "    if is_goal(node.state):\n",
        "        print(\"\\nGOAL REACHED!\")\n",
        "        return node.path\n",
        "\n",
        "    if len(node.path) >= max_depth:\n",
        "        print(f\"  (Reached max depth of {max_depth}, backtracking...)\")\n",
        "        return None\n",
        "\n",
        "    for next_node in generate_choices(node):\n",
        "        print(f\"  Trying: {next_node.path[-1]}\")\n",
        "        result = depth_first_search(next_node, max_depth)\n",
        "        if result:\n",
        "            return result\n",
        "\n",
        "    print(f\"  (No valid paths from here, backtracking...)\")\n",
        "    return None\n",
        "\n",
        "initial_state = {\n",
        "    \"tasks\": [\"task1\", \"task2\", \"task3\"],\n",
        "    \"resources\": 20\n",
        "}\n",
        "\n",
        "\n",
        "initial_node = DecisionNode(initial_state)\n",
        "solution = depth_first_search(initial_node)\n",
        "\n",
        "if solution:\n",
        "    print(\"\\nFINAL SOLUTION:\")\n",
        "    resources_left = initial_state[\"resources\"]\n",
        "    for i, task in enumerate(solution):\n",
        "        resources_left -= 5\n",
        "        print(f\"Step {i+1}: Complete {task} (Resources remaining: {resources_left})\")\n",
        "else:\n",
        "    print(\"\\nNo solution found!\")"
      ]
    },
    {
      "cell_type": "markdown",
      "metadata": {
        "id": "mRXNQRsHzIP9"
      },
      "source": [
        "Task 06"
      ]
    },
    {
      "cell_type": "code",
      "execution_count": 7,
      "metadata": {
        "colab": {
          "base_uri": "https://localhost:8080/"
        },
        "id": "E8Xb_p_dSwU1",
        "outputId": "4e4b6078-4067-4c7d-9fd9-0eefcdbca0f1"
      },
      "outputs": [
        {
          "name": "stdout",
          "output_type": "stream",
          "text": [
            "[5, 3, 4, 6, 7, 8, 9, 1, 2]\n",
            "[6, 7, 2, 1, 9, 5, 3, 4, 8]\n",
            "[1, 9, 8, 3, 4, 2, 5, 6, 7]\n",
            "[8, 5, 9, 7, 6, 1, 4, 2, 3]\n",
            "[4, 2, 6, 8, 5, 3, 7, 9, 1]\n",
            "[7, 1, 3, 9, 2, 4, 8, 5, 6]\n",
            "[9, 6, 1, 5, 3, 7, 2, 8, 4]\n",
            "[2, 8, 7, 4, 1, 9, 6, 3, 5]\n",
            "[3, 4, 5, 2, 8, 6, 1, 7, 9]\n"
          ]
        }
      ],
      "source": [
        "def is_valid(board, row, col, num):\n",
        "    for i in range(9):\n",
        "        if board[row][i] == num or board[i][col] == num:\n",
        "            return False\n",
        "\n",
        "    start_row, start_col = 3 * (row // 3), 3 * (col // 3)\n",
        "    for i in range(start_row, start_row + 3):\n",
        "        for j in range(start_col, start_col + 3):\n",
        "            if board[i][j] == num:\n",
        "                return False\n",
        "\n",
        "    return True\n",
        "\n",
        "def solve_sudoku(board):\n",
        "    for row in range(9):\n",
        "        for col in range(9):\n",
        "            if board[row][col] == 0:\n",
        "                for num in range(1, 10):\n",
        "                    if is_valid(board, row, col, num):\n",
        "                        board[row][col] = num\n",
        "\n",
        "                        if solve_sudoku(board):\n",
        "                            return True\n",
        "\n",
        "                        board[row][col] = 0\n",
        "\n",
        "                return False\n",
        "    return True\n",
        "\n",
        "sudoku_board = [\n",
        "    [5, 3, 0, 0, 7, 0, 0, 0, 0],\n",
        "    [6, 0, 0, 1, 9, 5, 0, 0, 0],\n",
        "    [0, 9, 8, 0, 0, 0, 0, 6, 0],\n",
        "    [8, 0, 0, 0, 6, 0, 0, 0, 3],\n",
        "    [4, 0, 0, 8, 0, 3, 0, 0, 1],\n",
        "    [7, 0, 0, 0, 2, 0, 0, 0, 6],\n",
        "    [0, 6, 0, 0, 0, 0, 2, 8, 0],\n",
        "    [0, 0, 0, 4, 1, 9, 0, 0, 5],\n",
        "    [0, 0, 0, 0, 8, 0, 0, 7, 9]\n",
        "]\n",
        "\n",
        "# Solve Sudoku\n",
        "if solve_sudoku(sudoku_board):\n",
        "    for row in sudoku_board:\n",
        "        print(row)\n",
        "else:\n",
        "    print(\"No solution exists\")"
      ]
    },
    {
      "cell_type": "code",
      "execution_count": null,
      "metadata": {
        "id": "0Br3VsolxChg"
      },
      "outputs": [],
      "source": []
    }
  ],
  "metadata": {
    "colab": {
      "provenance": []
    },
    "kernelspec": {
      "display_name": "Python 3",
      "name": "python3"
    },
    "language_info": {
      "codemirror_mode": {
        "name": "ipython",
        "version": 3
      },
      "file_extension": ".py",
      "mimetype": "text/x-python",
      "name": "python",
      "nbconvert_exporter": "python",
      "pygments_lexer": "ipython3",
      "version": "3.12.4"
    }
  },
  "nbformat": 4,
  "nbformat_minor": 0
}
