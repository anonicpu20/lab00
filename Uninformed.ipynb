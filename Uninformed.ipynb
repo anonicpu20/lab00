{
  "nbformat": 4,
  "nbformat_minor": 0,
  "metadata": {
    "colab": {
      "provenance": []
    },
    "kernelspec": {
      "name": "python3",
      "display_name": "Python 3"
    },
    "language_info": {
      "name": "python"
    }
  },
  "cells": [
    {
      "cell_type": "code",
      "execution_count": 1,
      "metadata": {
        "colab": {
          "base_uri": "https://localhost:8080/"
        },
        "id": "1BQMq4wV8TeS",
        "outputId": "28f7a770-f64a-459f-ba48-8939cbcb5537"
      },
      "outputs": [
        {
          "output_type": "stream",
          "name": "stdout",
          "text": [
            "\n",
            "Following is the Breadth-First Search (BFS):\n",
            "A B C D E F G H I \n",
            "Goal found!\n"
          ]
        }
      ],
      "source": [
        "# Tree Representation\n",
        "tree = {\n",
        "    'A': ['B', 'C'],\n",
        "    'B': ['D', 'E'],\n",
        "    'C': ['F', 'G'],\n",
        "    'D': ['H'],\n",
        "    'E': [],\n",
        "    'F': ['I'],\n",
        "    'G': [],\n",
        "    'H': [],\n",
        "    'I': []\n",
        "}\n",
        "\n",
        "# BFS Function\n",
        "def bfs(tree, start, goal):\n",
        "    visited = []  # List for visited nodes\n",
        "    queue = []    # Initialize a queue\n",
        "\n",
        "    visited.append(start)\n",
        "    queue.append(start)\n",
        "\n",
        "    while queue:\n",
        "        node = queue.pop(0)  # Dequeue\n",
        "        print(node, end=\" \")\n",
        "\n",
        "        if node == goal:  # Stop if goal is found\n",
        "            print(\"\\nGoal found!\")\n",
        "            break\n",
        "\n",
        "        for neighbour in tree[node]:\n",
        "            if neighbour not in visited:\n",
        "                visited.append(neighbour)\n",
        "                queue.append(neighbour)\n",
        "\n",
        "# Run BFS\n",
        "print(\"\\nFollowing is the Breadth-First Search (BFS):\")\n",
        "bfs(tree, 'A', 'I')\n"
      ]
    },
    {
      "cell_type": "code",
      "source": [
        "# Tree Representation\n",
        "tree = {\n",
        "    'A': ['B', 'C'],\n",
        "    'B': ['D', 'E'],\n",
        "    'C': ['F', 'G'],\n",
        "    'D': ['H'],\n",
        "    'E': [],\n",
        "    'F': ['I'],\n",
        "    'G': [],\n",
        "    'H': [],\n",
        "    'I': []\n",
        "}\n",
        "\n",
        "# DFS Function\n",
        "def dfs(graph, start, goal):\n",
        "    visited = []  # List for visited nodes\n",
        "    stack = []    # Initialize stack\n",
        "\n",
        "    visited.append(start)\n",
        "    stack.append(start)\n",
        "\n",
        "    while stack:\n",
        "        node = stack.pop()  # LIFO: Pop from top\n",
        "        print(node, end=\" \")\n",
        "\n",
        "        if node == goal:  # Stop if goal is found\n",
        "            print(\"\\nGoal found!\")\n",
        "            break\n",
        "\n",
        "        for neighbour in reversed(graph[node]):  # Reverse to maintain order\n",
        "            if neighbour not in visited:\n",
        "                visited.append(neighbour)\n",
        "                stack.append(neighbour)\n",
        "\n",
        "# Run DFS\n",
        "print(\"\\nFollowing is the Depth-First Search (DFS):\")\n",
        "dfs(tree, 'A', 'I')\n"
      ],
      "metadata": {
        "colab": {
          "base_uri": "https://localhost:8080/"
        },
        "id": "xvgrB0yM9FO4",
        "outputId": "c8667857-7ec7-4c37-cdc8-0e044780f1a8"
      },
      "execution_count": 2,
      "outputs": [
        {
          "output_type": "stream",
          "name": "stdout",
          "text": [
            "\n",
            "Following is the Depth-First Search (DFS):\n",
            "A B D H E C F I \n",
            "Goal found!\n"
          ]
        }
      ]
    },
    {
      "cell_type": "code",
      "source": [
        "# Tree Representation\n",
        "tree = {\n",
        "    'A': ['B', 'C'],\n",
        "    'B': ['D', 'E'],\n",
        "    'C': ['F', 'G'],\n",
        "    'D': ['H'],\n",
        "    'E': [],\n",
        "    'F': ['I'],\n",
        "    'G': [],\n",
        "    'H': [],\n",
        "    'I': []\n",
        "}\n",
        "\n",
        "# DLS Function\n",
        "def dls(graph, start, goal, depth_limit):\n",
        "    visited = []\n",
        "\n",
        "    def dfs(node, depth):\n",
        "        if depth > depth_limit:\n",
        "            return None  # Limit reached\n",
        "        visited.append(node)\n",
        "        if node == goal:\n",
        "            print(f\"Goal found with DLS. Path: {visited}\")\n",
        "        for neighbor in graph.get(node, []):\n",
        "            if neighbor not in visited:\n",
        "                dfs(neighbor, depth + 1)\n",
        "\n",
        "    dfs(start, 0)\n",
        "\n",
        "# Run DLS with depth limit 3\n",
        "dls(tree, 'A', 'I', 3)\n"
      ],
      "metadata": {
        "id": "-JqLcAqJ9IUm"
      },
      "execution_count": null,
      "outputs": []
    },
    {
      "cell_type": "code",
      "source": [
        "# Tree Representation\n",
        "tree = {\n",
        "    'A': ['B', 'C'],\n",
        "    'B': ['D', 'E'],\n",
        "    'C': ['F', 'G'],\n",
        "    'D': ['H'],\n",
        "    'E': [],\n",
        "    'F': ['I'],\n",
        "    'G': [],\n",
        "    'H': [],\n",
        "    'I': []\n",
        "}\n",
        "\n",
        "def dls(node, goal, depth, path):\n",
        "    if depth == 0:\n",
        "        return False\n",
        "    if node == goal:\n",
        "        path.append(node)\n",
        "        return True\n",
        "    if node not in tree:\n",
        "        return False\n",
        "    for child in tree[node]:\n",
        "        if dls(child, goal, depth - 1, path):\n",
        "            path.append(node)  # Store nodes while backtracking\n",
        "            return True\n",
        "    return False\n",
        "\n",
        "def iterative_deepening(start, goal, max_depth):\n",
        "    for depth in range(max_depth + 1):\n",
        "        print(f\"Depth: {depth}\")\n",
        "        path = []\n",
        "        if dls(start, goal, depth, path):\n",
        "            print(\"\\nPath to goal:\", \" → \".join(reversed(path)))\n",
        "            return\n",
        "    print(\"Goal not found within depth limit.\")\n",
        "\n",
        "# Run IDS\n",
        "iterative_deepening('A', 'I', 5)\n"
      ],
      "metadata": {
        "id": "RaMyTGp19KWk"
      },
      "execution_count": null,
      "outputs": []
    },
    {
      "cell_type": "code",
      "source": [
        "import heapq\n",
        "\n",
        "# Graph with edge costs\n",
        "graph = {\n",
        "    'A': {'B': 2, 'C': 1},\n",
        "    'B': {'D': 4, 'E': 3},\n",
        "    'C': {'F': 1, 'G': 5},\n",
        "    'D': {'H': 2},\n",
        "    'E': {},\n",
        "    'F': {'I': 6},\n",
        "    'G': {},\n",
        "    'H': {},\n",
        "    'I': {}\n",
        "}\n",
        "\n",
        "# UCS Function\n",
        "def ucs(graph, start, goal):\n",
        "    frontier = [(0, start)]  # Priority queue (cost, node)\n",
        "    visited = set()\n",
        "    cost_so_far = {start: 0}\n",
        "    came_from = {start: None}\n",
        "\n",
        "    while frontier:\n",
        "        cost, current = heapq.heappop(frontier)\n",
        "\n",
        "        if current in visited:\n",
        "            continue\n",
        "\n",
        "        visited.add(current)\n",
        "\n",
        "        if current == goal:\n",
        "            path = []\n",
        "            while current is not None:\n",
        "                path.append(current)\n",
        "                current = came_from[current]\n",
        "            path.reverse()\n",
        "            print(f\"Goal found with UCS. Path: {path}, Total Cost: {cost}\")\n",
        "            return\n",
        "\n",
        "        for neighbor, neighbor_cost in graph.get(current, {}).items():\n",
        "            new_cost = cost + neighbor_cost\n",
        "            if neighbor not in cost_so_far or new_cost < cost_so_far[neighbor]:\n",
        "                cost_so_far[neighbor] = new_cost\n",
        "                came_from[neighbor] = current\n",
        "                heapq.heappush(frontier, (new_cost, neighbor))\n",
        "\n",
        "    print(\"Goal not found\")\n",
        "\n",
        "# Run UCS\n",
        "ucs(graph, 'A', 'I')\n"
      ],
      "metadata": {
        "colab": {
          "base_uri": "https://localhost:8080/"
        },
        "id": "dRdLinYv9M9w",
        "outputId": "64eff2f2-d23e-4e1c-b6df-33f3f11bbe2b"
      },
      "execution_count": 3,
      "outputs": [
        {
          "output_type": "stream",
          "name": "stdout",
          "text": [
            "Goal found with UCS. Path: ['A', 'C', 'F', 'I'], Total Cost: 8\n"
          ]
        }
      ]
    }
  ]
}